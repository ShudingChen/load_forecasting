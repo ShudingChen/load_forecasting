{
 "cells": [
  {
   "cell_type": "code",
   "execution_count": 13,
   "metadata": {
    "collapsed": true
   },
   "outputs": [],
   "source": [
    "import os\n",
    "import glob\n",
    "import numpy as np\n",
    "from keras.models import Sequential\n",
    "from keras.layers import Dense, Activation\n",
    "from datetime import datetime\n",
    "import math\n",
    "from sklearn.preprocessing import MinMaxScaler, StandardScaler\n",
    "from sklearn.metrics import mean_squared_error\n",
    "from sklearn.model_selection import train_test_split\n",
    "import pandas as pd\n",
    "import matplotlib.pyplot as plt\n",
    "from utils import *"
   ]
  },
  {
   "cell_type": "code",
   "execution_count": 1,
   "metadata": {},
   "outputs": [
    {
     "data": {
      "text/plain": [
       "True"
      ]
     },
     "execution_count": 1,
     "metadata": {},
     "output_type": "execute_result"
    }
   ],
   "source": [
    "import torch\n",
    "torch.cuda.is_available()"
   ]
  },
  {
   "cell_type": "code",
   "execution_count": 6,
   "metadata": {},
   "outputs": [
    {
     "name": "stdout",
     "output_type": "stream",
     "text": [
      "1.12.0+cu116\n"
     ]
    },
    {
     "data": {
      "text/plain": [
       "False"
      ]
     },
     "execution_count": 6,
     "metadata": {},
     "output_type": "execute_result"
    }
   ],
   "source": [
    "from os import device_encoding\n",
    "import torch\n",
    "import time\n",
    "from torch import autograd\n",
    "\n",
    "print(torch.__version__)\n",
    "# print(torch.cuda.is_available())\n",
    "for i in range(100):\n",
    "    a=torch.randn(1000,1000)\n",
    "    b=torch.randn(1000,1000)\n",
    "    c=torch.matmul(a,b)\n",
    "c.is_cuda"
   ]
  },
  {
   "cell_type": "code",
   "execution_count": 8,
   "metadata": {},
   "outputs": [
    {
     "data": {
      "text/plain": [
       "device(type='cuda', index=0)"
      ]
     },
     "execution_count": 8,
     "metadata": {},
     "output_type": "execute_result"
    }
   ],
   "source": [
    "device=torch.device('cuda:0')\n",
    "device"
   ]
  },
  {
   "cell_type": "code",
   "execution_count": 12,
   "metadata": {},
   "outputs": [
    {
     "data": {
      "text/plain": [
       "True"
      ]
     },
     "execution_count": 12,
     "metadata": {},
     "output_type": "execute_result"
    }
   ],
   "source": [
    "torch.randn(1000,1000).to(device).is_cuda"
   ]
  },
  {
   "cell_type": "code",
   "execution_count": 3,
   "metadata": {},
   "outputs": [
    {
     "name": "stdout",
     "output_type": "stream",
     "text": [
      "1.12.0+cu116\n",
      "True\n"
     ]
    }
   ],
   "source": [
    "import torch\n",
    "import time\n",
    "from torch import autograd\n",
    "\n",
    "print(torch.__version__)\n",
    "print(torch.cuda.is_available())\n",
    "for i in range(10000000):\n",
    "    a=torch.randn(10000,1000)\n",
    "    b=torch.randn(1000,10000)\n",
    "    c=torch.matmul(a,b)\n",
    "c.is_cuda"
   ]
  },
  {
   "cell_type": "code",
   "execution_count": 47,
   "metadata": {
    "collapsed": true
   },
   "outputs": [],
   "source": [
    "def get_day_load_data(load_path):\n",
    "    '''read csv data at load_path and return it in a numpy matrix'''\n",
    "    data = pd.read_csv(load_path)\n",
    "    date_ = load_path.split('/')[-1][:-4] # get date of '01-10-2017' format\n",
    "    data['date'] = datetime.strptime(date_, \"%d-%m-%Y\").date()\n",
    "    data['time'] += ':00'\n",
    "    data['datetime'] = pd.to_timedelta(data['time'])\n",
    "    data['hour'] = data['datetime'].dt.seconds // 3600 \n",
    "    return data.as_matrix()"
   ]
  },
  {
   "cell_type": "code",
   "execution_count": 218,
   "metadata": {
    "collapsed": true
   },
   "outputs": [],
   "source": [
    "def get_30min_wise_data(day_load_data, day_whether_data):\n",
    "    '''Returns time, day temp, humidity and load values for each 30mins in a numpy matrix'''\n",
    "    data = []\n",
    "    for i in range(0, 288, 6): # SLDC load data has time step of 5 mins, so total 24 * (60 // 5)\n",
    "        load = day_load_data[i][1]\n",
    "        day = day_load_data[i][2].weekday()\n",
    "        \n",
    "        try:\n",
    "            humidity = float(day_whether_data[i//6][1].replace('%', ''))\n",
    "        except Exception as e:\n",
    "            humidity = 50 # some dirt values in data\n",
    "        try:\n",
    "            temp = float(day_whether_data[i//6][0]) # i//6 because whether data is already in 30 min step size\n",
    "        except Exception as err:\n",
    "            temp = 28 # aiyvi\n",
    "        data.append([i, day, temp, humidity, load])\n",
    "    return np.asarray(data)"
   ]
  },
  {
   "cell_type": "code",
   "execution_count": 247,
   "metadata": {
    "collapsed": true
   },
   "outputs": [],
   "source": [
    "def get_data(data_list, shuffle=True):\n",
    "    '''Return data of all csv files in SLDC_Data/ folder in matrix form'''\n",
    "    data = []\n",
    "    for load_path in data_list:\n",
    "        try:\n",
    "            whether_path = load_path.replace('SLDC_Data', 'Whether_Data')\n",
    "            day_load_data = get_day_load_data(load_path)\n",
    "            day_whether_data = pd.read_csv(whether_path)\n",
    "            day_data = get_30min_wise_data(day_load_data, day_whether_data[['Temp.', 'Humidity']].as_matrix())\n",
    "            data.append(day_data)\n",
    "        except Exception as e:\n",
    "            print(load_path, e)\n",
    "    data = np.asarray(data) # (115, 48, 5)\n",
    "    data = data.reshape(-1, 5) # (5520, 5)\n",
    "    if shuffle: np.random.shuffle(data)\n",
    "    return data"
   ]
  },
  {
   "cell_type": "code",
   "execution_count": 299,
   "metadata": {},
   "outputs": [
    {
     "name": "stdout",
     "output_type": "stream",
     "text": [
      "SLDC_Data/2017/12/07-12-2017.csv index 132 is out of bounds for axis 0 with size 132\n",
      "SLDC_Data/2018/01/04-01-2018.csv index 276 is out of bounds for axis 0 with size 276\n"
     ]
    }
   ],
   "source": [
    "# data preprocessing\n",
    "data_list = glob.glob('SLDC_Data/*/*/*.csv')\n",
    "train, test = train_test_split(data_list, test_size=0.1)\n",
    "train_data = get_data(train)\n",
    "X_train = train_data[:, :-1] # features\n",
    "Y_train = train_data[:, -1].reshape(-1, 1) # load, reshaped to 2D"
   ]
  },
  {
   "cell_type": "code",
   "execution_count": 300,
   "metadata": {
    "collapsed": true
   },
   "outputs": [],
   "source": [
    "# rescale the data to 0-1 values`\n",
    "feature_scaler = MinMaxScaler(feature_range=(0, 1))\n",
    "load_scaler = MinMaxScaler(feature_range=(0, 1)) # try StandardScaler()\n",
    "X_train = feature_scaler.fit_transform(X_train)\n",
    "Y_train = load_scaler.fit_transform(Y_train)"
   ]
  },
  {
   "cell_type": "code",
   "execution_count": 301,
   "metadata": {},
   "outputs": [
    {
     "data": {
      "text/plain": [
       "((6048, 4), (6048, 1), (48, 4), (48, 1))"
      ]
     },
     "execution_count": 301,
     "metadata": {},
     "output_type": "execute_result"
    }
   ],
   "source": [
    "X_train.shape, Y_train.shape, X_test.shape, Y_test.shape"
   ]
  },
  {
   "cell_type": "code",
   "execution_count": 331,
   "metadata": {
    "collapsed": true
   },
   "outputs": [],
   "source": [
    "def getModel():\n",
    "    model = Sequential()\n",
    "    model.add(Dense(256, input_shape=(4, )))\n",
    "    model.add(Activation('relu'))\n",
    "    model.add(Dense(256))\n",
    "    model.add(Activation('relu'))\n",
    "    model.add(Dense(256))\n",
    "    model.add(Activation('relu'))\n",
    "    model.add(Dense(1, activation='sigmoid'))\n",
    "    model.compile(loss='mse', optimizer='adam')\n",
    "    print(model.summary())\n",
    "    return model"
   ]
  },
  {
   "cell_type": "code",
   "execution_count": 332,
   "metadata": {},
   "outputs": [
    {
     "name": "stdout",
     "output_type": "stream",
     "text": [
      "_________________________________________________________________\n",
      "Layer (type)                 Output Shape              Param #   \n",
      "=================================================================\n",
      "dense_40 (Dense)             (None, 256)               1280      \n",
      "_________________________________________________________________\n",
      "activation_30 (Activation)   (None, 256)               0         \n",
      "_________________________________________________________________\n",
      "dense_41 (Dense)             (None, 256)               65792     \n",
      "_________________________________________________________________\n",
      "activation_31 (Activation)   (None, 256)               0         \n",
      "_________________________________________________________________\n",
      "dense_42 (Dense)             (None, 256)               65792     \n",
      "_________________________________________________________________\n",
      "activation_32 (Activation)   (None, 256)               0         \n",
      "_________________________________________________________________\n",
      "dense_43 (Dense)             (None, 1)                 257       \n",
      "=================================================================\n",
      "Total params: 133,121\n",
      "Trainable params: 133,121\n",
      "Non-trainable params: 0\n",
      "_________________________________________________________________\n",
      "None\n"
     ]
    }
   ],
   "source": [
    "model = getModel()"
   ]
  },
  {
   "cell_type": "code",
   "execution_count": 333,
   "metadata": {
    "scrolled": true
   },
   "outputs": [
    {
     "name": "stdout",
     "output_type": "stream",
     "text": [
      "Train on 5443 samples, validate on 605 samples\n",
      "Epoch 1/50\n",
      "5443/5443 [==============================] - 2s 285us/step - loss: 0.0202 - val_loss: 0.0132\n",
      "Epoch 2/50\n",
      "5443/5443 [==============================] - 1s 174us/step - loss: 0.0087 - val_loss: 0.0079\n",
      "Epoch 3/50\n",
      "5443/5443 [==============================] - 1s 191us/step - loss: 0.0067 - val_loss: 0.0072\n",
      "Epoch 4/50\n",
      "5443/5443 [==============================] - 1s 180us/step - loss: 0.0062 - val_loss: 0.0066\n",
      "Epoch 5/50\n",
      "5443/5443 [==============================] - 1s 214us/step - loss: 0.0057 - val_loss: 0.0070\n",
      "Epoch 6/50\n",
      "5443/5443 [==============================] - 1s 188us/step - loss: 0.0058 - val_loss: 0.0062\n",
      "Epoch 7/50\n",
      "5443/5443 [==============================] - 1s 190us/step - loss: 0.0053 - val_loss: 0.0067\n",
      "Epoch 8/50\n",
      "5443/5443 [==============================] - 1s 189us/step - loss: 0.0052 - val_loss: 0.0070\n",
      "Epoch 9/50\n",
      "5443/5443 [==============================] - 1s 187us/step - loss: 0.0049 - val_loss: 0.0072\n",
      "Epoch 10/50\n",
      "5443/5443 [==============================] - 1s 195us/step - loss: 0.0051 - val_loss: 0.0063\n",
      "Epoch 11/50\n",
      "5443/5443 [==============================] - 1s 187us/step - loss: 0.0047 - val_loss: 0.0057\n",
      "Epoch 12/50\n",
      "5443/5443 [==============================] - 1s 193us/step - loss: 0.0049 - val_loss: 0.0057\n",
      "Epoch 13/50\n",
      "5443/5443 [==============================] - 1s 174us/step - loss: 0.0046 - val_loss: 0.0061\n",
      "Epoch 14/50\n",
      "5443/5443 [==============================] - 1s 203us/step - loss: 0.0049 - val_loss: 0.0055\n",
      "Epoch 15/50\n",
      "5443/5443 [==============================] - 1s 193us/step - loss: 0.0044 - val_loss: 0.0061\n",
      "Epoch 16/50\n",
      "5443/5443 [==============================] - 1s 204us/step - loss: 0.0043 - val_loss: 0.0053\n",
      "Epoch 17/50\n",
      "5443/5443 [==============================] - 1s 178us/step - loss: 0.0043 - val_loss: 0.0051\n",
      "Epoch 18/50\n",
      "5443/5443 [==============================] - 1s 202us/step - loss: 0.0042 - val_loss: 0.0061\n",
      "Epoch 19/50\n",
      "5443/5443 [==============================] - 1s 182us/step - loss: 0.0040 - val_loss: 0.0051\n",
      "Epoch 20/50\n",
      "5443/5443 [==============================] - 1s 196us/step - loss: 0.0041 - val_loss: 0.0048\n",
      "Epoch 21/50\n",
      "5443/5443 [==============================] - 1s 180us/step - loss: 0.0044 - val_loss: 0.0048\n",
      "Epoch 22/50\n",
      "5443/5443 [==============================] - 1s 195us/step - loss: 0.0041 - val_loss: 0.0044\n",
      "Epoch 23/50\n",
      "5443/5443 [==============================] - 1s 180us/step - loss: 0.0041 - val_loss: 0.0046\n",
      "Epoch 24/50\n",
      "5443/5443 [==============================] - 1s 196us/step - loss: 0.0039 - val_loss: 0.0048\n",
      "Epoch 25/50\n",
      "5443/5443 [==============================] - 1s 198us/step - loss: 0.0039 - val_loss: 0.0046\n",
      "Epoch 26/50\n",
      "5443/5443 [==============================] - 1s 201us/step - loss: 0.0041 - val_loss: 0.0052\n",
      "Epoch 27/50\n",
      "5443/5443 [==============================] - 1s 177us/step - loss: 0.0041 - val_loss: 0.0046\n",
      "Epoch 28/50\n",
      "5443/5443 [==============================] - 1s 205us/step - loss: 0.0038 - val_loss: 0.0053\n",
      "Epoch 29/50\n",
      "5443/5443 [==============================] - 1s 180us/step - loss: 0.0038 - val_loss: 0.0045\n",
      "Epoch 30/50\n",
      "5443/5443 [==============================] - 1s 198us/step - loss: 0.0037 - val_loss: 0.0049\n",
      "Epoch 31/50\n",
      "5443/5443 [==============================] - 1s 189us/step - loss: 0.0038 - val_loss: 0.0047\n",
      "Epoch 32/50\n",
      "5443/5443 [==============================] - 1s 193us/step - loss: 0.0037 - val_loss: 0.0050\n",
      "Epoch 33/50\n",
      "5443/5443 [==============================] - 1s 194us/step - loss: 0.0038 - val_loss: 0.0047\n",
      "Epoch 34/50\n",
      "5443/5443 [==============================] - 1s 210us/step - loss: 0.0037 - val_loss: 0.0045\n",
      "Epoch 35/50\n",
      "5443/5443 [==============================] - 1s 249us/step - loss: 0.0037 - val_loss: 0.0051\n",
      "Epoch 36/50\n",
      "5443/5443 [==============================] - 1s 214us/step - loss: 0.0036 - val_loss: 0.0052\n",
      "Epoch 37/50\n",
      "5443/5443 [==============================] - 1s 210us/step - loss: 0.0038 - val_loss: 0.0046\n",
      "Epoch 38/50\n",
      "5443/5443 [==============================] - 1s 189us/step - loss: 0.0036 - val_loss: 0.0043\n",
      "Epoch 39/50\n",
      "5443/5443 [==============================] - 1s 197us/step - loss: 0.0035 - val_loss: 0.0050\n",
      "Epoch 40/50\n",
      "5443/5443 [==============================] - 1s 196us/step - loss: 0.0037 - val_loss: 0.0042\n",
      "Epoch 41/50\n",
      "5443/5443 [==============================] - 1s 211us/step - loss: 0.0036 - val_loss: 0.0043\n",
      "Epoch 42/50\n",
      "5443/5443 [==============================] - 1s 230us/step - loss: 0.0034 - val_loss: 0.0044\n",
      "Epoch 43/50\n",
      "5443/5443 [==============================] - 1s 210us/step - loss: 0.0035 - val_loss: 0.0040\n",
      "Epoch 44/50\n",
      "5443/5443 [==============================] - 1s 229us/step - loss: 0.0035 - val_loss: 0.0045\n",
      "Epoch 45/50\n",
      "5443/5443 [==============================] - 1s 188us/step - loss: 0.0035 - val_loss: 0.0047\n",
      "Epoch 46/50\n",
      "5443/5443 [==============================] - 1s 204us/step - loss: 0.0035 - val_loss: 0.0041\n",
      "Epoch 47/50\n",
      "5443/5443 [==============================] - 1s 200us/step - loss: 0.0033 - val_loss: 0.0049\n",
      "Epoch 48/50\n",
      "5443/5443 [==============================] - 1s 214us/step - loss: 0.0033 - val_loss: 0.0051\n",
      "Epoch 49/50\n",
      "5443/5443 [==============================] - 1s 228us/step - loss: 0.0035 - val_loss: 0.0041\n",
      "Epoch 50/50\n",
      "5443/5443 [==============================] - 1s 215us/step - loss: 0.0034 - val_loss: 0.0050\n"
     ]
    },
    {
     "data": {
      "text/plain": [
       "<keras.callbacks.History at 0x7f0ad65cdbe0>"
      ]
     },
     "execution_count": 333,
     "metadata": {},
     "output_type": "execute_result"
    }
   ],
   "source": [
    "model.fit(X_train, Y_train, batch_size=32, epochs=50, verbose=1, validation_split=0.1, shuffle=True)"
   ]
  },
  {
   "cell_type": "code",
   "execution_count": 341,
   "metadata": {
    "collapsed": true
   },
   "outputs": [],
   "source": [
    "def predict(data):\n",
    "    '''selects a date in data and plots the predicted curve using the trained model'''\n",
    "    try:\n",
    "        x = np.random.randint(len(data)) # to select a date in data data\n",
    "        data_data = get_data([data[x]], shuffle=False)\n",
    "        X_data = data_data[:, :-1] # features\n",
    "        Y_data = data_data[:, -1].reshape(-1, 1) # load, reshaped to 2D\n",
    "\n",
    "        X_data = feature_scaler.fit_transform(X_data)\n",
    "        Y_data = load_scaler.fit_transform(Y_data)\n",
    "\n",
    "        preds = model.predict(X_data)\n",
    "        preds = load_scaler.inverse_transform(preds)\n",
    "        Y_ = load_scaler.inverse_transform(Y_data)\n",
    "\n",
    "        plt.plot(range(len(Y_)), Y_)\n",
    "        plt.plot(range(len(preds)), preds)\n",
    "        plt.legend(['actual', 'pred'])\n",
    "        plt.title(data[x])\n",
    "        plt.show()\n",
    "    except Exception as e:\n",
    "        print('Err in data', e)"
   ]
  },
  {
   "cell_type": "code",
   "execution_count": 356,
   "metadata": {},
   "outputs": [
    {
     "data": {
      "image/png": "[encoded data removed]",
      "text/plain": [
       "<matplotlib.figure.Figure at 0x7f0ad704c390>"
      ]
     },
     "metadata": {},
     "output_type": "display_data"
    }
   ],
   "source": [
    "# prediction on test data\n",
    "predict(test)"
   ]
  },
  {
   "cell_type": "code",
   "execution_count": 354,
   "metadata": {},
   "outputs": [
    {
     "data": {
      "image/png": "[encoded data removed]",
      "text/plain": [
       "<matplotlib.figure.Figure at 0x7f0ad745a668>"
      ]
     },
     "metadata": {},
     "output_type": "display_data"
    }
   ],
   "source": [
    "# prediction on train data\n",
    "predict(train)"
   ]
  },
  {
   "cell_type": "code",
   "execution_count": null,
   "metadata": {
    "collapsed": true
   },
   "outputs": [],
   "source": []
  },
  {
   "cell_type": "code",
   "execution_count": null,
   "metadata": {
    "collapsed": true
   },
   "outputs": [],
   "source": []
  },
  {
   "cell_type": "code",
   "execution_count": 306,
   "metadata": {},
   "outputs": [
    {
     "name": "stdout",
     "output_type": "stream",
     "text": [
      "1957 2007\n"
     ]
    },
    {
     "data": {
      "image/png": "[encoded data removed]",
      "text/plain": [
       "<matplotlib.figure.Figure at 0x7f0ad7e35c18>"
      ]
     },
     "metadata": {},
     "output_type": "display_data"
    }
   ],
   "source": [
    "# prediction on train data as a whole\n",
    "\n",
    "preds = model.predict(X_train)\n",
    "preds = load_scaler.inverse_transform(preds)\n",
    "Y_ = load_scaler.inverse_transform(Y_train)\n",
    "\n",
    "x = np.random.randint(len(preds))\n",
    "x_max = 50\n",
    "print(x,x+x_max)\n",
    "plt.plot(range(x, x+x_max), preds[x:x+x_max])\n",
    "plt.plot(range(x, x+x_max), Y_[x:x+x_max])\n",
    "plt.legend(['pred', 'actual'])\n",
    "plt.show()"
   ]
  },
  {
   "cell_type": "code",
   "execution_count": null,
   "metadata": {
    "collapsed": true
   },
   "outputs": [],
   "source": []
  }
 ],
 "metadata": {
  "kernelspec": {
   "display_name": "Python 3.8.5 64-bit",
   "language": "python",
   "name": "python3"
  },
  "language_info": {
   "codemirror_mode": {
    "name": "ipython",
    "version": 3
   },
   "file_extension": ".py",
   "mimetype": "text/x-python",
   "name": "python",
   "nbconvert_exporter": "python",
   "pygments_lexer": "ipython3",
   "version": "3.8.5"
  },
  "vscode": {
   "interpreter": {
    "hash": "a308538dfb89a2d43bc3570e6d0c739774ae26a57f509c79c1ba00126fe482b1"
   }
  },
  "widgets": {
   "state": {},
   "version": "1.1.2"
  }
 },
 "nbformat": 4,
 "nbformat_minor": 2
}
